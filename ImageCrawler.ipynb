{
 "cells": [
  {
   "cell_type": "code",
   "execution_count": 10,
   "metadata": {},
   "outputs": [],
   "source": [
    "import bs4\n",
    "import requests\n",
    "import os"
   ]
  },
  {
   "cell_type": "code",
   "execution_count": 11,
   "metadata": {},
   "outputs": [],
   "source": [
    "rq=requests.get('https://ekabaad.netlify.com/')\n",
    "soup=bs4.BeautifulSoup(rq.text,'html.parser')\n",
    "links=[]\n",
    "images=soup.select('img[src^=\"https://\"]')\n"
   ]
  },
  {
   "cell_type": "code",
   "execution_count": 12,
   "metadata": {},
   "outputs": [],
   "source": [
    "for img in images:\n",
    "    links.append(img['src'])"
   ]
  },
  {
   "cell_type": "code",
   "execution_count": 13,
   "metadata": {},
   "outputs": [
    {
     "name": "stdout",
     "output_type": "stream",
     "text": [
      "https://d33wubrfki0l68.cloudfront.net/b80f6c398f2be95737f96e246cf1774debdf3535/8f077/images/recycle-and-make-money.jpg\n",
      "https://d33wubrfki0l68.cloudfront.net/a3a99494100a937148ff6b646ab6cdece5c703c0/91ab5/images/images.jfif\n",
      "https://images.squarespace-cdn.com/content/v1/595ee1b66a49637313264e4d/1554229236844-R9CC9SUZEC528DLEQHRR/ke17ZwdGBToddI8pDm48kCwfEVz7DdoHtxAOdWhbnl5Zw-zPPgdn4jUwVcJE1ZvWQUxwkmyExglNqGp0IvTJZamWLI2zvYWH8K3-s_4yszcp2ryTI0HqTOaaUohrI8PIHFgqPoFsh2QCknJG4ZJriUdP_h2n7wu2CpVrzfCJ5yw/cmc_how-it-works_02.png\n",
      "https://d33wubrfki0l68.cloudfront.net/e538ff0b3e95c31a2a920b2102c124a636701b84/308ba/images/cycle_solution.jpg\n",
      "https://d33wubrfki0l68.cloudfront.net/3cbeeb6edd36fc371b4dca7f9f0d7a95e69e606f/05d19/images/recycle-symbol.png\n"
     ]
    }
   ],
   "source": [
    "for link in links:\n",
    "    print(link)"
   ]
  },
  {
   "cell_type": "code",
   "execution_count": 25,
   "metadata": {},
   "outputs": [],
   "source": [
    "path='D:\\WebScrapingUsingPython\\ekabaad-scrapped-photos'\n",
    "Exists=os.path.exists(path)\n",
    "if not Exists:\n",
    "    os.mkdir('ekabaad-scrapped-photos')\n",
    "else:\n",
    "    print('Folder already exists!!')\n",
    "    \n",
    "for index,img_links in enumerate(links):\n",
    "   \n",
    "    img_data=requests.get(img_links).content\n",
    "    with open('ekabaad-scrapped-photos/'+str(index+1)+'.png','wb+') as f:\n",
    "        f.write(img_data)\n",
    "        f.close()\n",
    "  \n",
    "    "
   ]
  },
  {
   "cell_type": "code",
   "execution_count": 1,
   "metadata": {},
   "outputs": [
    {
     "name": "stdout",
     "output_type": "stream",
     "text": [
      "3,193,961227,644142,0891,993,576\n"
     ]
    }
   ],
   "source": [
    "import requests,bs4\n",
    "url=\"https://mmediagroup.fr/covid-19\"\n",
    "req=requests.get(url)\n",
    "soup=bs4.BeautifulSoup(req.text,'lxml')\n",
    "# total_deaths=soup.select('.text-danger')[0]\n",
    "# print(total_deaths)\n",
    "cases=[]\n",
    "for i in soup.select('.text-danger'):\n",
    "    cases.append(i.text)\n",
    "total_cases=cases[0]\n",
    "total_deaths=cases[1]\n",
    "more_deaths=cases[2]\n",
    "active_cases=cases[3]\n",
    "print(total_cases+total_deaths+more_deaths+active_cases)\n"
   ]
  }
 ],
 "metadata": {
  "kernelspec": {
   "display_name": "Python 3",
   "language": "python",
   "name": "python3"
  },
  "language_info": {
   "codemirror_mode": {
    "name": "ipython",
    "version": 3
   },
   "file_extension": ".py",
   "mimetype": "text/x-python",
   "name": "python",
   "nbconvert_exporter": "python",
   "pygments_lexer": "ipython3",
   "version": "3.6.8"
  }
 },
 "nbformat": 4,
 "nbformat_minor": 4
}
