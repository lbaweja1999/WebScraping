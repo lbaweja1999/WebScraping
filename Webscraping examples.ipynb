{
 "cells": [
  {
   "cell_type": "code",
   "execution_count": 56,
   "metadata": {},
   "outputs": [
    {
     "name": "stdout",
     "output_type": "stream",
     "text": [
      "eKabaad- Home\n",
      "\n",
      "[<head>\n",
      "<meta charset=\"utf-8\"/>\n",
      "<title>eKabaad- Home</title>\n",
      "<link href=\"../images/recycle-symbol.png\" rel=\"icon\"/>\n",
      "<link href=\"https://d33wubrfki0l68.cloudfront.net/css/763cacbe663af2e305c806d9e2702439eb3ac84d/css/styles.css\" rel=\"stylesheet\" type=\"text/css\"/>\n",
      "<meta content=\"width=device-width, initial-scale=1\" name=\"viewport\"/>\n",
      "<script src=\"https://ajax.googleapis.com/ajax/libs/jquery/3.3.1/jquery.min.js\"></script>\n",
      "<script src=\"https://d33wubrfki0l68.cloudfront.net/js/b5b3218d1c04a457b5e7dbda246ed22f837f1348/scripts/dropdown.js\" type=\"text/javascript\"></script>\n",
      "</head>]\n",
      "\n",
      "[<img alt=\"Logo\" src=\"https://d33wubrfki0l68.cloudfront.net/b80f6c398f2be95737f96e246cf1774debdf3535/8f077/images/recycle-and-make-money.jpg\"/>, <img alt=\"Recycle Logo\" id=\"recycleLogo\" src=\"https://d33wubrfki0l68.cloudfront.net/a3a99494100a937148ff6b646ab6cdece5c703c0/91ab5/images/images.jfif\"/>, <img alt=\"material\" src=\"https://images.squarespace-cdn.com/content/v1/595ee1b66a49637313264e4d/1554229236844-R9CC9SUZEC528DLEQHRR/ke17ZwdGBToddI8pDm48kCwfEVz7DdoHtxAOdWhbnl5Zw-zPPgdn4jUwVcJE1ZvWQUxwkmyExglNqGp0IvTJZamWLI2zvYWH8K3-s_4yszcp2ryTI0HqTOaaUohrI8PIHFgqPoFsh2QCknJG4ZJriUdP_h2n7wu2CpVrzfCJ5yw/cmc_how-it-works_02.png\"/>, <img alt=\"Recycle Logo\" id=\"recycleLogo\" src=\"https://d33wubrfki0l68.cloudfront.net/e538ff0b3e95c31a2a920b2102c124a636701b84/308ba/images/cycle_solution.jpg\"/>, <img alt=\"Company Logo 2\" id=\"footer-img\" src=\"https://d33wubrfki0l68.cloudfront.net/3cbeeb6edd36fc371b4dca7f9f0d7a95e69e606f/05d19/images/recycle-symbol.png\"/>]\n"
     ]
    }
   ],
   "source": [
    "import requests\n",
    "import bs4\n",
    "\n",
    "url=requests.get(\"https://ekabaad.netlify.com/\")\n",
    "\n",
    "soup=bs4.BeautifulSoup(url.text,'lxml')\n",
    "\n",
    "title=soup.select('title')\n",
    "head=soup.select('head')\n",
    "img=soup.select('img')\n",
    "\n",
    "print(title[0].getText())\n",
    "print()\n",
    "print(head)\n",
    "print()\n",
    "print(img)"
   ]
  },
  {
   "cell_type": "code",
   "execution_count": 57,
   "metadata": {},
   "outputs": [
    {
     "name": "stdout",
     "output_type": "stream",
     "text": [
      "[<div class=\"centered\">\n",
      "<h1>Who knew recycling could be so rewarding?</h1>\n",
      "<h2>When you recycle you get a choice:\n",
      "                    Take the refund or convert it to credits and access a whole bunch of amazing benefits. Once you’ve\n",
      "                    saved a bunch of credits, you’ll be able to redeem them for shopping cards, vouchers and may other\n",
      "                    things on Gpay.</h2>\n",
      "<a class=\"learn-more-btn\" href=\"/html/about\">Learn More</a>\n",
      "</div>]\n",
      "\n",
      "Who knew recycling could be so rewarding?\n",
      "When you recycle you get a choice:\n",
      "                    Take the refund or convert it to credits and access a whole bunch of amazing benefits. Once you’ve\n",
      "                    saved a bunch of credits, you’ll be able to redeem them for shopping cards, vouchers and may other\n",
      "                    things on Gpay.\n",
      "Learn More\n",
      "\n"
     ]
    }
   ],
   "source": [
    "tint=soup.select('.centered')\n",
    "print(tint)\n",
    "print(tint[0].text)"
   ]
  },
  {
   "cell_type": "code",
   "execution_count": 58,
   "metadata": {},
   "outputs": [
    {
     "name": "stdout",
     "output_type": "stream",
     "text": [
      "<div class=\"below-main\">\n",
      "<div class=\"left-div\" id=\"home-left-div\">\n",
      "<b>\n",
      "<h2 id=\"benefits\">Lets reduce liiter in Delhi-NCR</h2>\n",
      "</b>\n",
      "<p>\n",
      "                    More than 160 millions bottles and cans are littered in Delhi-NCR. We need your help - by recycling\n",
      "                    bottles,cans,cartoons &amp; newspaper,you will be helping environment and also earning along the way.\n",
      "                </p>\n",
      "</div>\n",
      "<div class=\"right-div\">\n",
      "<img alt=\"Recycle Logo\" id=\"recycleLogo\" src=\"https://d33wubrfki0l68.cloudfront.net/a3a99494100a937148ff6b646ab6cdece5c703c0/91ab5/images/images.jfif\"/>\n",
      "</div>\n",
      "</div>\n",
      "\n",
      "\n",
      "\n",
      "Lets reduce liiter in Delhi-NCR\n",
      "\n",
      "\n",
      "                    More than 160 millions bottles and cans are littered in Delhi-NCR. We need your help - by recycling\n",
      "                    bottles,cans,cartoons & newspaper,you will be helping environment and also earning along the way.\n",
      "                \n",
      "\n",
      "\n",
      "\n",
      "\n",
      "\n",
      "<div class=\"below-main\">\n",
      "<div class=\"left-div\" id=\"home-left-div\">\n",
      "<h2 id=\"benefits\">Key Recycling Benefits</h2>\n",
      "<ul>\n",
      "<li>Reduces the amount of waste sent to landfills and incinerators</li>\n",
      "<li>Conserves natural resources such as timber, water and minerals</li>\n",
      "<li>Reduces your landfill waste</li>\n",
      "<li>Prevents pollution by reducing the need to collect new raw materials</li>\n",
      "<li>Helps create jobs in the recycling and manufacturing industries in the India</li>\n",
      "</ul>\n",
      "</div>\n",
      "<div class=\"right-div\">\n",
      "<img alt=\"Recycle Logo\" id=\"recycleLogo\" src=\"https://d33wubrfki0l68.cloudfront.net/e538ff0b3e95c31a2a920b2102c124a636701b84/308ba/images/cycle_solution.jpg\"/>\n",
      "</div>\n",
      "</div>\n",
      "\n",
      "\n",
      "Key Recycling Benefits\n",
      "\n",
      "Reduces the amount of waste sent to landfills and incinerators\n",
      "Conserves natural resources such as timber, water and minerals\n",
      "Reduces your landfill waste\n",
      "Prevents pollution by reducing the need to collect new raw materials\n",
      "Helps create jobs in the recycling and manufacturing industries in the India\n",
      "\n",
      "\n",
      "\n",
      "\n",
      "\n",
      "\n"
     ]
    }
   ],
   "source": [
    "for i in soup.select('.below-main'):\n",
    "    print(i)\n",
    "    print(i.text)"
   ]
  },
  {
   "cell_type": "code",
   "execution_count": 62,
   "metadata": {},
   "outputs": [
    {
     "name": "stdout",
     "output_type": "stream",
     "text": [
      "['/', '/html/about', '/html/services', '/html/contact', '/html/login']\n"
     ]
    }
   ],
   "source": [
    "links=soup.find_all('a')\n",
    "links1=[]\n",
    "for link in links:\n",
    "    if link['href']=='/':\n",
    "        pass\n",
    "\n",
    "    if link['href'] not in links1:\n",
    "        links1.append(link['href'])\n",
    "print(links1)"
   ]
  }
 ],
 "metadata": {
  "kernelspec": {
   "display_name": "Python 3",
   "language": "python",
   "name": "python3"
  },
  "language_info": {
   "codemirror_mode": {
    "name": "ipython",
    "version": 3
   },
   "file_extension": ".py",
   "mimetype": "text/x-python",
   "name": "python",
   "nbconvert_exporter": "python",
   "pygments_lexer": "ipython3",
   "version": "3.6.8"
  }
 },
 "nbformat": 4,
 "nbformat_minor": 4
}
